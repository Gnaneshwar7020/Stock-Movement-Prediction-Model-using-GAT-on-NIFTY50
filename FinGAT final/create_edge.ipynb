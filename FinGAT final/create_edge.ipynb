{
 "cells": [
  {
   "cell_type": "code",
   "execution_count": 112,
   "id": "0df304ae-e9f0-44fc-a0f2-10b181f1dd92",
   "metadata": {},
   "outputs": [],
   "source": [
    "import numpy as np\n",
    "import pandas as pd\n",
    "\n",
    "# Load the data\n",
    "df = pd.read_csv(\"D:\\\\capstone_project\\\\capstone_project\\\\NIFTY50_category.csv\")\n",
    "company_list = df[\"company\"].unique()\n",
    "sector_list = df[\"category\"].unique()"
   ]
  },
  {
   "cell_type": "code",
   "execution_count": 101,
   "id": "87c2888e",
   "metadata": {},
   "outputs": [],
   "source": [
    "all_edges = []"
   ]
  },
  {
   "cell_type": "code",
   "execution_count": 102,
   "id": "8c048962",
   "metadata": {},
   "outputs": [],
   "source": [
    "# Map company names to indexes\n",
    "name2index = {key: i for i, key in enumerate(company_list)}"
   ]
  },
  {
   "cell_type": "code",
   "execution_count": 103,
   "id": "58619e18",
   "metadata": {},
   "outputs": [],
   "source": [
    "# Create outer edges between sectors\n",
    "outer_edge = [(i, j) for i in range(len(sector_list)) for j in range(i, len(sector_list))]\n",
    "all_edges = [(i, j) for i in range(len(sector_list)) for j in range(i, len(sector_list))]"
   ]
  },
  {
   "cell_type": "code",
   "execution_count": 104,
   "id": "887d2d09",
   "metadata": {},
   "outputs": [],
   "source": [
    "# Create inner edges within each sector\n",
    "inner_edge = []\n",
    "for sector in sector_list:\n",
    "    intra_companies = df[df.category == sector][\"company\"].unique()\n",
    "    for i in range(len(intra_companies)):\n",
    "        for j in range(i, len(intra_companies)):\n",
    "            inner_edge.append((name2index[intra_companies[i]], name2index[intra_companies[j]]))\n",
    "            all_edges.append((name2index[intra_companies[i]], name2index[intra_companies[j]]))\n"
   ]
  },
  {
   "cell_type": "code",
   "execution_count": 111,
   "id": "2d8fbb83",
   "metadata": {},
   "outputs": [
    {
     "name": "stdout",
     "output_type": "stream",
     "text": [
      "(111, 2) (325, 2) (436, 2)\n"
     ]
    }
   ],
   "source": [
    "# Convert to numpy arrays and save\n",
    "inner_edge = np.array(inner_edge)\n",
    "#inner_edge = np.transpose(inner_edge)\n",
    "\n",
    "outer_edge = np.array(outer_edge)\n",
    "#outer_edge = np.transpose(outer_edge)\n",
    "\n",
    "all_edges = np.array(all_edges)\n",
    "#all_edges = np.transpose(all_edges)\n",
    "\n",
    "np.save(\"D:\\capstone_project\\capstone_project\\inner\", inner_edge)\n",
    "np.save(\"D:\\capstone_project\\capstone_project\\outer\", outer_edge)\n",
    "\n",
    "print(inner_edge.shape, outer_edge.shape, all_edges.shape)"
   ]
  },
  {
   "cell_type": "code",
   "execution_count": null,
   "id": "3dae0a15",
   "metadata": {},
   "outputs": [],
   "source": []
  },
  {
   "cell_type": "code",
   "execution_count": 106,
   "id": "0bded347",
   "metadata": {},
   "outputs": [],
   "source": [
    "# from torch_geometric.data import Data\n",
    "# data = Data(x=all_edges)"
   ]
  }
 ],
 "metadata": {
  "kernelspec": {
   "display_name": "Python 3 (ipykernel)",
   "language": "python",
   "name": "python3"
  },
  "language_info": {
   "codemirror_mode": {
    "name": "ipython",
    "version": 3
   },
   "file_extension": ".py",
   "mimetype": "text/x-python",
   "name": "python",
   "nbconvert_exporter": "python",
   "pygments_lexer": "ipython3",
   "version": "3.11.0"
  }
 },
 "nbformat": 4,
 "nbformat_minor": 5
}
